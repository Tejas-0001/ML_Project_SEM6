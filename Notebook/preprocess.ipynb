{
 "cells": [
  {
   "cell_type": "code",
   "id": "initial_id",
   "metadata": {
    "collapsed": true,
    "ExecuteTime": {
     "end_time": "2024-04-21T09:51:31.575856Z",
     "start_time": "2024-04-21T09:51:31.297885Z"
    }
   },
   "source": [
    "import xarray as xr\n",
    "import netCDF4 as nc"
   ],
   "outputs": [],
   "execution_count": 1
  },
  {
   "metadata": {
    "ExecuteTime": {
     "end_time": "2024-04-21T09:51:31.579030Z",
     "start_time": "2024-04-21T09:51:31.575856Z"
    }
   },
   "cell_type": "code",
   "source": [
    "DATADIR = '../Data/geopotential_500/'\n",
    "PREDDIR = '../Predictions/'"
   ],
   "id": "b733705699c29f02",
   "outputs": [],
   "execution_count": 2
  },
  {
   "metadata": {
    "ExecuteTime": {
     "end_time": "2024-04-21T09:51:32.300543Z",
     "start_time": "2024-04-21T09:51:31.579030Z"
    }
   },
   "cell_type": "code",
   "source": [
    "ds = xr.open_mfdataset(f'{DATADIR}*.nc', combine='by_coords', engine='netcdf4')\n",
    "print(ds)"
   ],
   "id": "6c9b0c9a6615db01",
   "outputs": [
    {
     "name": "stdout",
     "output_type": "stream",
     "text": [
      "<xarray.Dataset> Size: 3GB\n",
      "Dimensions:  (lon: 64, lat: 32, time: 350640)\n",
      "Coordinates:\n",
      "    level    int32 4B 500\n",
      "  * lon      (lon) float64 512B 0.0 5.625 11.25 16.88 ... 343.1 348.8 354.4\n",
      "  * lat      (lat) float64 256B -87.19 -81.56 -75.94 ... 75.94 81.56 87.19\n",
      "  * time     (time) datetime64[ns] 3MB 1979-01-01 ... 2018-12-31T23:00:00\n",
      "Data variables:\n",
      "    z        (time, lat, lon) float32 3GB dask.array<chunksize=(8760, 32, 64), meta=np.ndarray>\n",
      "Attributes:\n",
      "    Conventions:  CF-1.6\n",
      "    history:      2019-11-10 20:33:23 GMT by grib_to_netcdf-2.14.0: /opt/ecmw...\n"
     ]
    }
   ],
   "execution_count": 3
  },
  {
   "metadata": {
    "ExecuteTime": {
     "end_time": "2024-04-21T09:51:32.317748Z",
     "start_time": "2024-04-21T09:51:32.301410Z"
    }
   },
   "cell_type": "code",
   "source": [
    "ds_sliced = ds.sel(time=slice('2010', '2015'))\n",
    "print(ds_sliced)"
   ],
   "id": "8188bbeff1f8e71d",
   "outputs": [
    {
     "name": "stdout",
     "output_type": "stream",
     "text": [
      "<xarray.Dataset> Size: 431MB\n",
      "Dimensions:  (lon: 64, lat: 32, time: 52584)\n",
      "Coordinates:\n",
      "    level    int32 4B 500\n",
      "  * lon      (lon) float64 512B 0.0 5.625 11.25 16.88 ... 343.1 348.8 354.4\n",
      "  * lat      (lat) float64 256B -87.19 -81.56 -75.94 ... 75.94 81.56 87.19\n",
      "  * time     (time) datetime64[ns] 421kB 2010-01-01 ... 2015-12-31T23:00:00\n",
      "Data variables:\n",
      "    z        (time, lat, lon) float32 431MB dask.array<chunksize=(8760, 32, 64), meta=np.ndarray>\n",
      "Attributes:\n",
      "    Conventions:  CF-1.6\n",
      "    history:      2019-11-10 20:33:23 GMT by grib_to_netcdf-2.14.0: /opt/ecmw...\n"
     ]
    }
   ],
   "execution_count": 4
  },
  {
   "metadata": {},
   "cell_type": "code",
   "outputs": [],
   "execution_count": null,
   "source": "",
   "id": "7dd88ca13df5f319"
  }
 ],
 "metadata": {
  "kernelspec": {
   "display_name": "Python 3",
   "language": "python",
   "name": "python3"
  },
  "language_info": {
   "codemirror_mode": {
    "name": "ipython",
    "version": 2
   },
   "file_extension": ".py",
   "mimetype": "text/x-python",
   "name": "python",
   "nbconvert_exporter": "python",
   "pygments_lexer": "ipython2",
   "version": "2.7.6"
  }
 },
 "nbformat": 4,
 "nbformat_minor": 5
}
